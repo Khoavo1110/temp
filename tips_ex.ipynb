{
 "cells": [
  {
   "cell_type": "markdown",
   "metadata": {
    "id": "sgnbH5Kjvo5R"
   },
   "source": [
    "# Điều gì ảnh hưởng đến tiền tip?"
   ]
  },
  {
   "cell_type": "markdown",
   "metadata": {
    "id": "PJjMNZ3SuozT"
   },
   "source": [
    "## CÂU HỎI\n",
    "\n",
    "Đọc dữ liệu tips.csv, thực hiện thống kê mô tả (tìm hiểu các đại lượng và trực quan hóa) để tìm hiểu các yếu tố ảnh hưởng đến tiền tips"
   ]
  },
  {
   "cell_type": "markdown",
   "metadata": {
    "id": "ctsRlyR6u3_8"
   },
   "source": [
    "## DỮ LIỆU\n",
    "Gồm các cột\n",
    "- `total_bill` tổng hóa đơn\n",
    "- `tip` tiền tip (đơn vị USD)\n",
    "- `sex` giới tính\n",
    "- `smoker` người có/không hút thuốc\n",
    "- `day` ngày trong tuần\n",
    "- `time` thời điểm\n",
    "- `size` số lượng người"
   ]
  },
  {
   "cell_type": "markdown",
   "metadata": {
    "id": "CT94xID8xMPK"
   },
   "source": [
    "## TÓM TẮT DỮ LIỆU"
   ]
  },
  {
   "cell_type": "code",
   "execution_count": 1,
   "metadata": {
    "id": "mcg-JOZtxBBG"
   },
   "outputs": [],
   "source": [
    "import pandas as pd\n",
    "import matplotlib.pyplot as plt"
   ]
  },
  {
   "cell_type": "code",
   "execution_count": 2,
   "metadata": {
    "colab": {
     "base_uri": "https://localhost:8080/",
     "height": 201
    },
    "id": "j0w5obaiwoAA",
    "outputId": "256a88f4-05a5-4bbf-dab2-56fbc018c097"
   },
   "outputs": [],
   "source": [
    "# Đọc dữ liệu\n"
   ]
  },
  {
   "cell_type": "code",
   "execution_count": 3,
   "metadata": {
    "colab": {
     "base_uri": "https://localhost:8080/",
     "height": 140
    },
    "id": "wYeRBgtQ1CWm",
    "outputId": "14f42971-8d50-49e3-de0a-9638c7623062"
   },
   "outputs": [],
   "source": [
    "# Xoá cột 'Unamed: 0'\n"
   ]
  },
  {
   "cell_type": "code",
   "execution_count": 4,
   "metadata": {
    "colab": {
     "base_uri": "https://localhost:8080/"
    },
    "id": "Oq-P9ijU1Uu5",
    "outputId": "490018bb-82b3-48da-98ec-585fed4c1477"
   },
   "outputs": [],
   "source": [
    "# Kích thước dữ liệu\n"
   ]
  },
  {
   "cell_type": "code",
   "execution_count": 5,
   "metadata": {
    "colab": {
     "base_uri": "https://localhost:8080/"
    },
    "id": "q0KAeRdM1YfJ",
    "outputId": "8be136fc-8e99-4ab8-d0cd-50c28fcc92f3"
   },
   "outputs": [],
   "source": [
    "# Thông tin các thuộc tính\n"
   ]
  },
  {
   "cell_type": "code",
   "execution_count": 6,
   "metadata": {
    "colab": {
     "base_uri": "https://localhost:8080/",
     "height": 385
    },
    "id": "bZI4hzzm2WaR",
    "outputId": "9bd56517-61c0-430b-9ceb-2f9b9aefe095"
   },
   "outputs": [],
   "source": [
    "# Xem các đại lượng thống kê\n"
   ]
  },
  {
   "cell_type": "code",
   "execution_count": 7,
   "metadata": {
    "colab": {
     "base_uri": "https://localhost:8080/"
    },
    "id": "p6PhUm_34JAP",
    "outputId": "f03364e3-b4cd-4d96-b099-cde81459457b"
   },
   "outputs": [],
   "source": [
    "# Kiểm tra dữ liệu thuộc tính time\n"
   ]
  },
  {
   "cell_type": "markdown",
   "metadata": {
    "id": "xdvoZO2wxWx4"
   },
   "source": [
    "## TÌM HIỂU"
   ]
  },
  {
   "cell_type": "markdown",
   "metadata": {
    "id": "1pduDovfxz1m"
   },
   "source": [
    "### total_bill & tip"
   ]
  },
  {
   "cell_type": "markdown",
   "metadata": {
    "id": "I-eM5C6p5pbp"
   },
   "source": [
    "Để tìm hiểu hai thuộc tính định lượng có tương quan với nhau hay không, ta có thể dùng hệ số tương quan để kiểm tra. Nội dung về phần này sẽ được trình bày ở bài hồi quy. \n",
    "\n",
    "Ta vẫn có thể kiểm tra sự tương quan giữa hai đại lượng này thông qua đồ thị phân tán (scatter plot)\n",
    "\n",
    "Hãy vẽ đồ thị phân tán thể hiện mối liên hệ giữa \"total_bill\" và \"tip\""
   ]
  },
  {
   "cell_type": "code",
   "execution_count": null,
   "metadata": {
    "colab": {
     "base_uri": "https://localhost:8080/",
     "height": 281
    },
    "id": "Pjngh4hvx2tD",
    "outputId": "974e6596-c2c1-49a3-edb6-b12e488ab440"
   },
   "outputs": [],
   "source": []
  },
  {
   "cell_type": "markdown",
   "metadata": {
    "id": "k4Cih6JowVc6"
   },
   "source": [
    "### sex & tip\n",
    "\n",
    "Liệu giới tính có ảnh hưởng đến tiền tip hay không?"
   ]
  },
  {
   "cell_type": "markdown",
   "metadata": {
    "id": "uLnV9t-nuf8c"
   },
   "source": [
    "### smoker & tip"
   ]
  },
  {
   "cell_type": "markdown",
   "metadata": {
    "id": "zEeSgWsgwqC4"
   },
   "source": [
    "### day & tip"
   ]
  },
  {
   "cell_type": "markdown",
   "metadata": {
    "id": "6WxdO5MVwubS"
   },
   "source": [
    "### time & tip"
   ]
  },
  {
   "cell_type": "markdown",
   "metadata": {
    "id": "7Yec_t8sw0RZ"
   },
   "source": [
    "### size & tip"
   ]
  }
 ],
 "metadata": {
  "colab": {
   "collapsed_sections": [],
   "name": "ex_tips_solution.ipynb",
   "provenance": [],
   "toc_visible": true
  },
  "kernelspec": {
   "display_name": "Python 3 (ipykernel)",
   "language": "python",
   "name": "python3"
  },
  "language_info": {
   "codemirror_mode": {
    "name": "ipython",
    "version": 3
   },
   "file_extension": ".py",
   "mimetype": "text/x-python",
   "name": "python",
   "nbconvert_exporter": "python",
   "pygments_lexer": "ipython3",
   "version": "3.11.5"
  }
 },
 "nbformat": 4,
 "nbformat_minor": 1
}
