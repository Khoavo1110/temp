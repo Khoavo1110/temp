{
 "cells": [
  {
   "cell_type": "markdown",
   "metadata": {},
   "source": [
    "# US Baby Name"
   ]
  },
  {
   "cell_type": "markdown",
   "metadata": {},
   "source": [
    "## GIỚI THIỆU\n",
    "Dữ Liệu `US_BaBy_Names.csv` chứa thông tin của các em bé sinh từ 2004 - 2014 tại Mỹ. Dựa vào tập dữ liệu trên, bạn hãy thực hiện các bài tập sau:"
   ]
  },
  {
   "cell_type": "markdown",
   "metadata": {},
   "source": [
    "## TÌM HIỂU DỮ LIỆU"
   ]
  },
  {
   "cell_type": "markdown",
   "metadata": {},
   "source": [
    "### 01. Đọc dữ liệu"
   ]
  },
  {
   "cell_type": "code",
   "execution_count": 4,
   "metadata": {},
   "outputs": [
    {
     "name": "stdout",
     "output_type": "stream",
     "text": [
      "doc file thanh cong\n"
     ]
    }
   ],
   "source": [
    "import pandas as pd\n",
    "def readfile(filename):\n",
    "        try:\n",
    "            df=pd.read_csv(filename,encoding='utf-8')\n",
    "        except FileNotFoundError:\n",
    "            print (f\"Error\")\n",
    "            return None\n",
    "        return df\n",
    "df=readfile('./US_Baby_Names.csv')\n",
    "if df is not None:\n",
    "     print('doc file thanh cong')\n"
   ]
  },
  {
   "cell_type": "markdown",
   "metadata": {},
   "source": [
    "### 02. Hiển thị 10 dòng dữ liệu bất kỳ"
   ]
  },
  {
   "cell_type": "code",
   "execution_count": 5,
   "metadata": {},
   "outputs": [
    {
     "name": "stdout",
     "output_type": "stream",
     "text": [
      "   Unnamed: 0     Id      Name  Year Gender State  Count\n",
      "0       11349  11350      Emma  2004      F    AK     62\n",
      "1       11350  11351   Madison  2004      F    AK     48\n",
      "2       11351  11352    Hannah  2004      F    AK     46\n",
      "3       11352  11353     Grace  2004      F    AK     44\n",
      "4       11353  11354     Emily  2004      F    AK     41\n",
      "5       11354  11355   Abigail  2004      F    AK     37\n",
      "6       11355  11356    Olivia  2004      F    AK     33\n",
      "7       11356  11357  Isabella  2004      F    AK     30\n",
      "8       11357  11358    Alyssa  2004      F    AK     29\n",
      "9       11358  11359    Sophia  2004      F    AK     28\n"
     ]
    }
   ],
   "source": [
    "print(df.head(10))"
   ]
  },
  {
   "cell_type": "markdown",
   "metadata": {},
   "source": [
    "### 03. Cho biết kích thước dữ liệu"
   ]
  },
  {
   "cell_type": "code",
   "execution_count": 6,
   "metadata": {},
   "outputs": [
    {
     "name": "stdout",
     "output_type": "stream",
     "text": [
      "so dong la:1016395 so cot la: 7\n"
     ]
    }
   ],
   "source": [
    "rows,col=df.shape\n",
    "print(f'so dong la:{rows} so cot la: {col}')"
   ]
  },
  {
   "cell_type": "markdown",
   "metadata": {},
   "source": [
    "### 04. Xóa 2 cột 'Unnamed: 0' and 'Id'"
   ]
  },
  {
   "cell_type": "code",
   "execution_count": 8,
   "metadata": {},
   "outputs": [
    {
     "name": "stdout",
     "output_type": "stream",
     "text": [
      "       Name  Year Gender State  Count\n",
      "0      Emma  2004      F    AK     62\n",
      "1   Madison  2004      F    AK     48\n",
      "2    Hannah  2004      F    AK     46\n",
      "3     Grace  2004      F    AK     44\n",
      "4     Emily  2004      F    AK     41\n",
      "5   Abigail  2004      F    AK     37\n",
      "6    Olivia  2004      F    AK     33\n",
      "7  Isabella  2004      F    AK     30\n",
      "8    Alyssa  2004      F    AK     29\n",
      "9    Sophia  2004      F    AK     28\n"
     ]
    }
   ],
   "source": [
    "df=df.drop(columns=['Unnamed: 0','Id'])\n",
    "print(df.head(10))"
   ]
  },
  {
   "cell_type": "markdown",
   "metadata": {},
   "source": [
    "### 05. Cho biết số lượng bé trai, bé gái?"
   ]
  },
  {
   "cell_type": "code",
   "execution_count": 9,
   "metadata": {},
   "outputs": [
    {
     "name": "stdout",
     "output_type": "stream",
     "text": [
      "so luong nam 558846 so luong nu 457549\n"
     ]
    }
   ],
   "source": [
    "countf=(df['Gender']=='F').sum()\n",
    "countM=(df['Gender']=='M').sum()\n",
    "print(f'so luong nam {countf} so luong nu {countM}')"
   ]
  },
  {
   "cell_type": "markdown",
   "metadata": {},
   "source": [
    "### 06. Trong bộ dữ liệu có bao nhiêu tên khác nhau?"
   ]
  },
  {
   "cell_type": "code",
   "execution_count": 16,
   "metadata": {},
   "outputs": [
    {
     "name": "stdout",
     "output_type": "stream",
     "text": [
      "so luong ten khac nhau la 17632\n"
     ]
    }
   ],
   "source": [
    "countname=df['Name'].nunique()\n",
    "\n",
    "print(f'so luong ten khac nhau la {countname}')"
   ]
  },
  {
   "cell_type": "markdown",
   "metadata": {},
   "source": [
    "### 07. Tên nào xuất hiện ít nhất?"
   ]
  },
  {
   "cell_type": "code",
   "execution_count": 17,
   "metadata": {},
   "outputs": [
    {
     "name": "stdout",
     "output_type": "stream",
     "text": [
      "ten co so lan xuat hien it nha la :Taeler voi so lan 1\n"
     ]
    }
   ],
   "source": [
    "coutnnamemin=df['Name'].value_counts()\n",
    "name=coutnnamemin.idxmin()\n",
    "sl=coutnnamemin.min()\n",
    "print(f'ten co so lan xuat hien it nha la :{name} voi so lan {sl}')"
   ]
  },
  {
   "cell_type": "markdown",
   "metadata": {},
   "source": [
    "### 08. Top 10 tên được sử dụng nhiều nhất?"
   ]
  },
  {
   "cell_type": "code",
   "execution_count": 19,
   "metadata": {},
   "outputs": [
    {
     "name": "stdout",
     "output_type": "stream",
     "text": [
      "Riley     1112\n",
      "Avery     1080\n",
      "Jordan    1073\n",
      "Peyton    1064\n",
      "Hayden    1049\n",
      "Taylor    1033\n",
      "Jayden    1031\n",
      "Alexis     984\n",
      "Payton     971\n",
      "Dakota     962\n",
      "Name: Name, dtype: int64\n"
     ]
    }
   ],
   "source": [
    "top10=df['Name'].value_counts().head(10)\n",
    "print(top10)\n"
   ]
  },
  {
   "cell_type": "markdown",
   "metadata": {},
   "source": [
    "## TRỰC QUAN DỮ LIỆU"
   ]
  },
  {
   "cell_type": "markdown",
   "metadata": {},
   "source": [
    "### 09. Vẽ đồ thị top 10 tên xuất hiện nhiều nhất năm 2014"
   ]
  },
  {
   "cell_type": "code",
   "execution_count": 25,
   "metadata": {},
   "outputs": [
    {
     "name": "stderr",
     "output_type": "stream",
     "text": [
      "No handles with labels found to put in legend.\n",
      "No handles with labels found to put in legend.\n"
     ]
    },
    {
     "data": {
      "image/png": "[encoded data removed]",
      "text/plain": [
       "<Figure size 460.8x345.6 with 1 Axes>"
      ]
     },
     "metadata": {
      "needs_background": "light"
     },
     "output_type": "display_data"
    }
   ],
   "source": [
    "import matplotlib.pyplot as plt\n",
    "plt.figure(figsize=(6.4, 4.8))\n",
    "top10_df=top10.reset_index()\n",
    "top10_df.columns=['Name','Count']\n",
    "color=[]\n",
    "for value in top10_df['Count']:\n",
    "    if value <1000 :\n",
    "        color.append('yellow')\n",
    "    else :\n",
    "        color.append('red')\n",
    "plt.bar(top10_df['Name'],top10_df['Count'], color=color,edgecolor='black',linewidth=1.5)\n",
    "plt.legend()\n",
    "plt.grid(color='gray', linestyle='--', linewidth=0.5)\n",
    "for i,value in enumerate(top10_df['Count']):\n",
    "    if value>1000 :\n",
    "        plt.text(i,value+8,value,ha='center')\n",
    "        \n",
    "plt.title('bieu do cot')\n",
    "plt.xlabel('Name')\n",
    "plt.ylabel('Count')\n",
    "plt.legend()\n",
    "plt.show()"
   ]
  },
  {
   "cell_type": "markdown",
   "metadata": {},
   "source": [
    "### 10. Vẽ đồ thị thể hiện tỷ lệ nam nữ qua các năm 2004-2014"
   ]
  },
  {
   "cell_type": "code",
   "execution_count": 44,
   "metadata": {},
   "outputs": [
    {
     "name": "stdout",
     "output_type": "stream",
     "text": [
      "   Unnamed: 0     Id      Name  Year Gender State  Count\n",
      "0       11349  11350      Emma  2004      F    AK     62\n",
      "1       11350  11351   Madison  2004      F    AK     48\n",
      "2       11351  11352    Hannah  2004      F    AK     46\n",
      "3       11352  11353     Grace  2004      F    AK     44\n",
      "4       11353  11354     Emily  2004      F    AK     41\n",
      "5       11354  11355   Abigail  2004      F    AK     37\n",
      "6       11355  11356    Olivia  2004      F    AK     33\n",
      "7       11356  11357  Isabella  2004      F    AK     30\n",
      "8       11357  11358    Alyssa  2004      F    AK     29\n",
      "9       11358  11359    Sophia  2004      F    AK     28\n"
     ]
    },
    {
     "data": {
      "image/png": "[encoded data removed]",
      "text/plain": [
       "<Figure size 432x288 with 1 Axes>"
      ]
     },
     "metadata": {
      "needs_background": "light"
     },
     "output_type": "display_data"
    }
   ],
   "source": [
    "df=readfile('./US_Baby_Names.csv')\n",
    "gender_counts = df.groupby(['Year', 'Gender'])['Count'].sum().unstack(fill_value=0)\n",
    "print(df.head(10))\n",
    "\n",
    "total_count = df.groupby('Year')['Count'].sum()\n",
    "# Tính tỷ lệ phần trăm của mỗi giới tính trong từng năm\n",
    "gender_percentage = gender_counts.divide(total_count, axis=0) * 100\n",
    "years = gender_percentage.index\n",
    "female_percentage = gender_percentage['F']  # Tỷ lệ phần trăm của nữ\n",
    "male_percentage = gender_percentage['M']    # Tỷ lệ phần trăm của nam\n",
    "\n",
    "# Vẽ biểu đồ cột cho tỷ lệ phần trăm giới tính\n",
    "width = 0.4  # Độ rộng của các cột\n",
    "plt.bar(years - width/2, female_percentage, width=width, label='Female', color='blue')\n",
    "plt.bar(years + width/2, male_percentage, width=width, label='Male', color='orange')\n",
    "\n",
    "# Thêm tiêu đề và nhãn\n",
    "plt.title('Tỷ lệ phần trăm Nam và Nữ qua các Năm')\n",
    "plt.xlabel('Năm')\n",
    "plt.ylabel('Tỷ lệ phần trăm (%)')\n",
    "\n",
    "# Thêm chú thích\n",
    "plt.legend()\n",
    "\n",
    "# Hiển thị biểu đồ\n",
    "plt.show()\n",
    "\n",
    "\n",
    "\n",
    "\n"
   ]
  }
 ],
 "metadata": {
  "kernelspec": {
   "display_name": "Python 3",
   "language": "python",
   "name": "python3"
  },
  "language_info": {
   "codemirror_mode": {
    "name": "ipython",
    "version": 3
   },
   "file_extension": ".py",
   "mimetype": "text/x-python",
   "name": "python",
   "nbconvert_exporter": "python",
   "pygments_lexer": "ipython3",
   "version": "3.8.5"
  }
 },
 "nbformat": 4,
 "nbformat_minor": 4
}
